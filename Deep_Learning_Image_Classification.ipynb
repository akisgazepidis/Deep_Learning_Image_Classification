{
 "cells": [
  {
   "cell_type": "code",
   "execution_count": 1,
   "id": "imposed-territory",
   "metadata": {
    "ExecuteTime": {
     "end_time": "2023-02-26T13:14:30.197098Z",
     "start_time": "2023-02-26T13:14:26.460856Z"
    }
   },
   "outputs": [],
   "source": [
    "import pandas as pd \n",
    "import numpy as np \n",
    "import tensorflow as tf\n",
    "from time import time\n",
    "from tensorflow.keras.datasets import fashion_mnist\n",
    "from sklearn.model_selection import GridSearchCV\n",
    "from scikeras.wrappers import KerasClassifier"
   ]
  },
  {
   "cell_type": "code",
   "execution_count": 2,
   "id": "incorporate-plain",
   "metadata": {
    "ExecuteTime": {
     "end_time": "2023-02-26T13:14:30.750691Z",
     "start_time": "2023-02-26T13:14:30.209065Z"
    }
   },
   "outputs": [],
   "source": [
    "(X_train, Y_train), (X_test, Y_test) = fashion_mnist.load_data()"
   ]
  },
  {
   "cell_type": "code",
   "execution_count": 3,
   "id": "unsigned-million",
   "metadata": {
    "ExecuteTime": {
     "end_time": "2023-02-26T13:14:31.204365Z",
     "start_time": "2023-02-26T13:14:31.187411Z"
    }
   },
   "outputs": [
    {
     "name": "stdout",
     "output_type": "stream",
     "text": [
      "Training data:  (60000, 28, 28)\n",
      "Labels of training data:  (60000,)\n",
      "Unique labels:  [0 1 2 3 4 5 6 7 8 9]\n"
     ]
    }
   ],
   "source": [
    "# Print training set shapes\n",
    "print(\"Training data: \",X_train.shape)\n",
    "print(\"Labels of training data: \",Y_train.shape)\n",
    "print(\"Unique labels: \", np.unique(Y_train))"
   ]
  },
  {
   "cell_type": "code",
   "execution_count": 4,
   "id": "other-stations",
   "metadata": {
    "ExecuteTime": {
     "end_time": "2023-02-26T13:14:32.018977Z",
     "start_time": "2023-02-26T13:14:32.003504Z"
    }
   },
   "outputs": [
    {
     "name": "stdout",
     "output_type": "stream",
     "text": [
      "Training data:  (10000, 28, 28)\n",
      "Labels of training data:  (10000,)\n",
      "Unique labels:  [0 1 2 3 4 5 6 7 8 9]\n"
     ]
    }
   ],
   "source": [
    "# Print test set shapes\n",
    "print(\"Training data: \",X_test.shape)\n",
    "print(\"Labels of training data: \",Y_test.shape)\n",
    "print(\"Unique labels: \", np.unique(Y_test))"
   ]
  },
  {
   "cell_type": "code",
   "execution_count": 5,
   "id": "exceptional-mainland",
   "metadata": {
    "ExecuteTime": {
     "end_time": "2023-02-26T13:14:32.978531Z",
     "start_time": "2023-02-26T13:14:32.807399Z"
    }
   },
   "outputs": [],
   "source": [
    "#Scaling values\n",
    "X_train, X_test = X_train/255.0, X_test/255.0"
   ]
  },
  {
   "cell_type": "code",
   "execution_count": 6,
   "id": "driving-cardiff",
   "metadata": {
    "ExecuteTime": {
     "end_time": "2023-02-26T13:14:33.667538Z",
     "start_time": "2023-02-26T13:14:33.652577Z"
    }
   },
   "outputs": [],
   "source": [
    "#convert labels to one hot encoding\n",
    "Y_train = tf.keras.utils.to_categorical(Y_train)\n",
    "\n",
    "# Count labels used in training set; categorise test set on same basis\n",
    "# even if test set only uses subset of categories learning in training\n",
    "K = len(Y_train[0])\n",
    "\n",
    "Y_test = tf.keras.utils.to_categorical(Y_test, K)"
   ]
  },
  {
   "cell_type": "code",
   "execution_count": 7,
   "id": "mental-marketing",
   "metadata": {
    "ExecuteTime": {
     "end_time": "2023-02-26T13:14:35.357638Z",
     "start_time": "2023-02-26T13:14:35.152842Z"
    }
   },
   "outputs": [],
   "source": [
    "#normalize each column : x_normed = x/ x.max(axis = 0)\n",
    "max_train_data = X_train.max(axis=0)\n",
    "X_train = X_train / max_train_data\n",
    "X_test = X_test/max_train_data #use the train data maximum values"
   ]
  },
  {
   "cell_type": "code",
   "execution_count": 8,
   "id": "basic-badge",
   "metadata": {
    "ExecuteTime": {
     "end_time": "2023-02-26T13:14:37.211011Z",
     "start_time": "2023-02-26T13:14:37.193060Z"
    }
   },
   "outputs": [],
   "source": [
    "#Re-shape the image data in order to have a Conv2D layer\n",
    "X_train = X_train.reshape(60000, 28,28,1)\n",
    "X_test = X_test.reshape(10000, 28,28,1)"
   ]
  },
  {
   "cell_type": "code",
   "execution_count": 9,
   "id": "22e69ee2",
   "metadata": {
    "ExecuteTime": {
     "end_time": "2023-02-26T13:14:38.411239Z",
     "start_time": "2023-02-26T13:14:38.389267Z"
    }
   },
   "outputs": [],
   "source": [
    "def create_model():\n",
    "    model  = tf.keras.models.Sequential([\n",
    "        tf.keras.layers.Conv2D(32, kernel_size=(5,5), input_shape=(28,28,1)),\n",
    "        tf.keras.layers.MaxPool2D(),\n",
    "        tf.keras.layers.Conv2D(64, kernel_size=(5,5)),\n",
    "        tf.keras.layers.MaxPool2D(),\n",
    "        tf.keras.layers.Flatten(),\n",
    "        tf.keras.layers.Dense(1024, activation = \"relu\"),\n",
    "        tf.keras.layers.Dropout(0.2),\n",
    "        tf.keras.layers.Dense(K, activation = tf.nn.softmax)\n",
    "    ])\n",
    "\n",
    "    model.compile(\n",
    "        optimizer=\"adam\",\n",
    "        loss=\"categorical_crossentropy\",\n",
    "        metrics  = ['accuracy']\n",
    "    )\n",
    "    return model"
   ]
  },
  {
   "cell_type": "code",
   "execution_count": 10,
   "id": "829dcde4",
   "metadata": {
    "ExecuteTime": {
     "end_time": "2023-02-26T13:14:39.917758Z",
     "start_time": "2023-02-26T13:14:39.898809Z"
    }
   },
   "outputs": [],
   "source": [
    "model = KerasClassifier(model=create_model)"
   ]
  },
  {
   "cell_type": "code",
   "execution_count": 11,
   "id": "774995b4",
   "metadata": {
    "ExecuteTime": {
     "end_time": "2023-02-26T14:54:10.493250Z",
     "start_time": "2023-02-26T13:15:27.866779Z"
    }
   },
   "outputs": [
    {
     "name": "stdout",
     "output_type": "stream",
     "text": [
      "Fitting 3 folds for each of 3 candidates, totalling 9 fits\n",
      "Epoch 1/5\n",
      "40/40 [==============================] - 42s 1s/step - loss: 0.8718 - accuracy: 0.6874\n",
      "Epoch 2/5\n",
      "40/40 [==============================] - 41s 1s/step - loss: 0.5091 - accuracy: 0.8161\n",
      "Epoch 3/5\n",
      "40/40 [==============================] - 42s 1s/step - loss: 0.4330 - accuracy: 0.8464\n",
      "Epoch 4/5\n",
      "40/40 [==============================] - 41s 1s/step - loss: 0.3781 - accuracy: 0.8636\n",
      "Epoch 5/5\n",
      "40/40 [==============================] - 42s 1s/step - loss: 0.3405 - accuracy: 0.8769\n",
      "20/20 [==============================] - 7s 319ms/step\n",
      "40/40 [==============================] - 14s 337ms/step\n",
      "[CV 1/3] END batch_size=1000, epochs=5;, score=(train=0.890, test=0.877) total time= 3.6min\n",
      "Epoch 1/5\n",
      "40/40 [==============================] - 43s 1s/step - loss: 0.8868 - accuracy: 0.6840\n",
      "Epoch 2/5\n",
      "40/40 [==============================] - 41s 1s/step - loss: 0.5240 - accuracy: 0.8080\n",
      "Epoch 3/5\n",
      "40/40 [==============================] - 41s 1s/step - loss: 0.4376 - accuracy: 0.8435\n",
      "Epoch 4/5\n",
      "40/40 [==============================] - 42s 1s/step - loss: 0.3876 - accuracy: 0.8607\n",
      "Epoch 5/5\n",
      "40/40 [==============================] - 41s 1s/step - loss: 0.3529 - accuracy: 0.8716\n",
      "20/20 [==============================] - 8s 390ms/step\n",
      "40/40 [==============================] - 13s 329ms/step\n",
      "[CV 2/3] END batch_size=1000, epochs=5;, score=(train=0.883, test=0.876) total time= 3.6min\n",
      "Epoch 1/5\n",
      "40/40 [==============================] - 43s 1s/step - loss: 0.8512 - accuracy: 0.7035\n",
      "Epoch 2/5\n",
      "40/40 [==============================] - 43s 1s/step - loss: 0.4905 - accuracy: 0.8257\n",
      "Epoch 3/5\n",
      "40/40 [==============================] - 42s 1s/step - loss: 0.4102 - accuracy: 0.8540\n",
      "Epoch 4/5\n",
      "40/40 [==============================] - 42s 1s/step - loss: 0.3637 - accuracy: 0.8705\n",
      "Epoch 5/5\n",
      "40/40 [==============================] - 41s 1s/step - loss: 0.3294 - accuracy: 0.8806\n",
      "20/20 [==============================] - 7s 353ms/step\n",
      "40/40 [==============================] - 13s 332ms/step\n",
      "[CV 3/3] END batch_size=1000, epochs=5;, score=(train=0.890, test=0.878) total time= 3.6min\n",
      "Epoch 1/10\n",
      "40/40 [==============================] - 42s 1s/step - loss: 0.8508 - accuracy: 0.7021\n",
      "Epoch 2/10\n",
      "40/40 [==============================] - 42s 1s/step - loss: 0.5027 - accuracy: 0.8212\n",
      "Epoch 3/10\n",
      "40/40 [==============================] - 42s 1s/step - loss: 0.4208 - accuracy: 0.8519\n",
      "Epoch 4/10\n",
      "40/40 [==============================] - 42s 1s/step - loss: 0.3766 - accuracy: 0.8641\n",
      "Epoch 5/10\n",
      "40/40 [==============================] - 42s 1s/step - loss: 0.3439 - accuracy: 0.8763\n",
      "Epoch 6/10\n",
      "40/40 [==============================] - 43s 1s/step - loss: 0.3162 - accuracy: 0.8875\n",
      "Epoch 7/10\n",
      "40/40 [==============================] - 43s 1s/step - loss: 0.2969 - accuracy: 0.8928\n",
      "Epoch 8/10\n",
      "40/40 [==============================] - 43s 1s/step - loss: 0.2811 - accuracy: 0.8983\n",
      "Epoch 9/10\n",
      "40/40 [==============================] - 42s 1s/step - loss: 0.2663 - accuracy: 0.9038\n",
      "Epoch 10/10\n",
      "40/40 [==============================] - 42s 1s/step - loss: 0.2559 - accuracy: 0.9069\n",
      "20/20 [==============================] - 7s 354ms/step\n",
      "40/40 [==============================] - 14s 347ms/step\n",
      "[CV 1/3] END batch_size=1000, epochs=10;, score=(train=0.918, test=0.896) total time= 7.2min\n",
      "Epoch 1/10\n",
      "40/40 [==============================] - 42s 1s/step - loss: 0.8746 - accuracy: 0.6887\n",
      "Epoch 2/10\n",
      "40/40 [==============================] - 42s 1s/step - loss: 0.5143 - accuracy: 0.8114\n",
      "Epoch 3/10\n",
      "40/40 [==============================] - 42s 1s/step - loss: 0.4307 - accuracy: 0.8465\n",
      "Epoch 4/10\n",
      "40/40 [==============================] - 43s 1s/step - loss: 0.3799 - accuracy: 0.8637\n",
      "Epoch 5/10\n",
      "40/40 [==============================] - 42s 1s/step - loss: 0.3456 - accuracy: 0.8745\n",
      "Epoch 6/10\n",
      "40/40 [==============================] - 42s 1s/step - loss: 0.3186 - accuracy: 0.8865\n",
      "Epoch 7/10\n",
      "40/40 [==============================] - 42s 1s/step - loss: 0.2966 - accuracy: 0.8922\n",
      "Epoch 8/10\n",
      "40/40 [==============================] - 42s 1s/step - loss: 0.2785 - accuracy: 0.8989\n",
      "Epoch 9/10\n",
      "40/40 [==============================] - 41s 1s/step - loss: 0.2611 - accuracy: 0.9053\n",
      "Epoch 10/10\n",
      "40/40 [==============================] - 43s 1s/step - loss: 0.2485 - accuracy: 0.9086\n",
      "20/20 [==============================] - 7s 344ms/step\n",
      "40/40 [==============================] - 14s 350ms/step\n",
      "[CV 2/3] END batch_size=1000, epochs=10;, score=(train=0.922, test=0.901) total time= 7.1min\n",
      "Epoch 1/10\n",
      "40/40 [==============================] - 42s 1s/step - loss: 0.8993 - accuracy: 0.6836\n",
      "Epoch 2/10\n",
      "40/40 [==============================] - 41s 1s/step - loss: 0.5235 - accuracy: 0.8113\n",
      "Epoch 3/10\n",
      "40/40 [==============================] - 41s 1s/step - loss: 0.4343 - accuracy: 0.8466\n",
      "Epoch 4/10\n",
      "40/40 [==============================] - 37s 915ms/step - loss: 0.3825 - accuracy: 0.8632\n",
      "Epoch 5/10\n",
      "40/40 [==============================] - 37s 928ms/step - loss: 0.3460 - accuracy: 0.8753\n",
      "Epoch 6/10\n",
      "40/40 [==============================] - 37s 926ms/step - loss: 0.3173 - accuracy: 0.8850\n",
      "Epoch 7/10\n",
      "40/40 [==============================] - 37s 920ms/step - loss: 0.2954 - accuracy: 0.8928\n",
      "Epoch 8/10\n",
      "40/40 [==============================] - 37s 920ms/step - loss: 0.2820 - accuracy: 0.8988\n",
      "Epoch 9/10\n",
      "40/40 [==============================] - 37s 928ms/step - loss: 0.2659 - accuracy: 0.9028\n",
      "Epoch 10/10\n",
      "40/40 [==============================] - 37s 930ms/step - loss: 0.2493 - accuracy: 0.9089\n",
      "20/20 [==============================] - 6s 299ms/step\n",
      "40/40 [==============================] - 12s 299ms/step\n",
      "[CV 3/3] END batch_size=1000, epochs=10;, score=(train=0.912, test=0.890) total time= 6.5min\n",
      "Epoch 1/20\n",
      "40/40 [==============================] - 37s 914ms/step - loss: 0.8855 - accuracy: 0.6876\n",
      "Epoch 2/20\n",
      "40/40 [==============================] - 37s 921ms/step - loss: 0.5192 - accuracy: 0.8132\n",
      "Epoch 3/20\n",
      "40/40 [==============================] - 37s 915ms/step - loss: 0.4281 - accuracy: 0.8461\n",
      "Epoch 4/20\n",
      "40/40 [==============================] - 37s 915ms/step - loss: 0.3770 - accuracy: 0.8659\n",
      "Epoch 5/20\n",
      "40/40 [==============================] - 37s 913ms/step - loss: 0.3466 - accuracy: 0.8754\n",
      "Epoch 6/20\n",
      "40/40 [==============================] - 38s 939ms/step - loss: 0.3165 - accuracy: 0.8875\n",
      "Epoch 7/20\n",
      "40/40 [==============================] - 37s 936ms/step - loss: 0.2961 - accuracy: 0.8917\n",
      "Epoch 8/20\n",
      "40/40 [==============================] - 37s 929ms/step - loss: 0.2778 - accuracy: 0.8995\n",
      "Epoch 9/20\n",
      "40/40 [==============================] - 37s 936ms/step - loss: 0.2642 - accuracy: 0.9042\n",
      "Epoch 10/20\n",
      "40/40 [==============================] - 42s 1s/step - loss: 0.2462 - accuracy: 0.9110\n",
      "Epoch 11/20\n",
      "40/40 [==============================] - 42s 1s/step - loss: 0.2325 - accuracy: 0.9161\n",
      "Epoch 12/20\n",
      "40/40 [==============================] - 44s 1s/step - loss: 0.2243 - accuracy: 0.9186\n",
      "Epoch 13/20\n",
      "40/40 [==============================] - 43s 1s/step - loss: 0.2090 - accuracy: 0.9244\n",
      "Epoch 14/20\n",
      "40/40 [==============================] - 37s 932ms/step - loss: 0.2009 - accuracy: 0.9281\n",
      "Epoch 15/20\n",
      "40/40 [==============================] - 48s 1s/step - loss: 0.1868 - accuracy: 0.9329\n",
      "Epoch 16/20\n",
      "40/40 [==============================] - 43s 1s/step - loss: 0.1772 - accuracy: 0.9362\n",
      "Epoch 17/20\n",
      "40/40 [==============================] - 42s 1s/step - loss: 0.1678 - accuracy: 0.9395\n",
      "Epoch 18/20\n",
      "40/40 [==============================] - 42s 1s/step - loss: 0.1646 - accuracy: 0.9402\n",
      "Epoch 19/20\n",
      "40/40 [==============================] - 42s 1s/step - loss: 0.1506 - accuracy: 0.9445\n",
      "Epoch 20/20\n",
      "40/40 [==============================] - 44s 1s/step - loss: 0.1395 - accuracy: 0.9495\n",
      "20/20 [==============================] - 7s 353ms/step\n",
      "40/40 [==============================] - 14s 358ms/step\n",
      "[CV 1/3] END batch_size=1000, epochs=20;, score=(train=0.962, test=0.911) total time=13.5min\n",
      "Epoch 1/20\n",
      "40/40 [==============================] - 43s 1s/step - loss: 0.8997 - accuracy: 0.6827\n",
      "Epoch 2/20\n",
      "40/40 [==============================] - 42s 1s/step - loss: 0.5301 - accuracy: 0.8041\n",
      "Epoch 3/20\n",
      "40/40 [==============================] - 46s 1s/step - loss: 0.4370 - accuracy: 0.8433\n",
      "Epoch 4/20\n",
      "40/40 [==============================] - 43s 1s/step - loss: 0.3885 - accuracy: 0.8599\n",
      "Epoch 5/20\n",
      "40/40 [==============================] - 44s 1s/step - loss: 0.3475 - accuracy: 0.8749\n",
      "Epoch 6/20\n",
      "40/40 [==============================] - 44s 1s/step - loss: 0.3272 - accuracy: 0.8825\n",
      "Epoch 7/20\n",
      "40/40 [==============================] - 44s 1s/step - loss: 0.3008 - accuracy: 0.8920\n",
      "Epoch 8/20\n",
      "40/40 [==============================] - 44s 1s/step - loss: 0.2832 - accuracy: 0.8971\n",
      "Epoch 9/20\n",
      "40/40 [==============================] - 42s 1s/step - loss: 0.2663 - accuracy: 0.9037\n",
      "Epoch 10/20\n",
      "40/40 [==============================] - 43s 1s/step - loss: 0.2564 - accuracy: 0.9061\n",
      "Epoch 11/20\n",
      "40/40 [==============================] - 50s 1s/step - loss: 0.2379 - accuracy: 0.9128\n",
      "Epoch 12/20\n",
      "40/40 [==============================] - 62s 2s/step - loss: 0.2277 - accuracy: 0.9172\n",
      "Epoch 13/20\n",
      "40/40 [==============================] - 64s 2s/step - loss: 0.2152 - accuracy: 0.9216\n",
      "Epoch 14/20\n",
      "40/40 [==============================] - 56s 1s/step - loss: 0.2028 - accuracy: 0.9262\n",
      "Epoch 15/20\n",
      "40/40 [==============================] - 43s 1s/step - loss: 0.1889 - accuracy: 0.9305\n",
      "Epoch 16/20\n",
      "40/40 [==============================] - 47s 1s/step - loss: 0.1801 - accuracy: 0.9341\n",
      "Epoch 17/20\n",
      "40/40 [==============================] - 45s 1s/step - loss: 0.1719 - accuracy: 0.9373\n",
      "Epoch 18/20\n",
      "40/40 [==============================] - 44s 1s/step - loss: 0.1627 - accuracy: 0.9406\n",
      "Epoch 19/20\n",
      "40/40 [==============================] - 43s 1s/step - loss: 0.1532 - accuracy: 0.9438\n",
      "Epoch 20/20\n",
      "40/40 [==============================] - 45s 1s/step - loss: 0.1407 - accuracy: 0.9499\n",
      "20/20 [==============================] - 7s 333ms/step\n",
      "40/40 [==============================] - 14s 350ms/step\n",
      "[CV 2/3] END batch_size=1000, epochs=20;, score=(train=0.963, test=0.911) total time=15.7min\n",
      "Epoch 1/20\n",
      "40/40 [==============================] - 48s 1s/step - loss: 0.8947 - accuracy: 0.6831\n",
      "Epoch 2/20\n",
      "40/40 [==============================] - 44s 1s/step - loss: 0.5198 - accuracy: 0.8119\n",
      "Epoch 3/20\n",
      "40/40 [==============================] - 42s 1s/step - loss: 0.4252 - accuracy: 0.8481\n",
      "Epoch 4/20\n",
      "40/40 [==============================] - 42s 1s/step - loss: 0.3781 - accuracy: 0.8639\n",
      "Epoch 5/20\n",
      "40/40 [==============================] - 43s 1s/step - loss: 0.3390 - accuracy: 0.8779\n",
      "Epoch 6/20\n",
      "40/40 [==============================] - 43s 1s/step - loss: 0.3147 - accuracy: 0.8849\n",
      "Epoch 7/20\n",
      "40/40 [==============================] - 42s 1s/step - loss: 0.2900 - accuracy: 0.8963\n",
      "Epoch 8/20\n",
      "40/40 [==============================] - 42s 1s/step - loss: 0.2723 - accuracy: 0.9013\n",
      "Epoch 9/20\n",
      "40/40 [==============================] - 42s 1s/step - loss: 0.2613 - accuracy: 0.9039\n",
      "Epoch 10/20\n",
      "40/40 [==============================] - 42s 1s/step - loss: 0.2461 - accuracy: 0.9100\n",
      "Epoch 11/20\n",
      "40/40 [==============================] - 42s 1s/step - loss: 0.2313 - accuracy: 0.9155\n",
      "Epoch 12/20\n",
      "40/40 [==============================] - 42s 1s/step - loss: 0.2179 - accuracy: 0.9203\n",
      "Epoch 13/20\n",
      "40/40 [==============================] - 43s 1s/step - loss: 0.2055 - accuracy: 0.9250\n",
      "Epoch 14/20\n",
      "40/40 [==============================] - 43s 1s/step - loss: 0.1925 - accuracy: 0.9291\n",
      "Epoch 15/20\n",
      "40/40 [==============================] - 43s 1s/step - loss: 0.1835 - accuracy: 0.9326\n",
      "Epoch 16/20\n",
      "40/40 [==============================] - 43s 1s/step - loss: 0.1770 - accuracy: 0.9343\n",
      "Epoch 17/20\n",
      "40/40 [==============================] - 42s 1s/step - loss: 0.1689 - accuracy: 0.9383\n",
      "Epoch 18/20\n",
      "40/40 [==============================] - 43s 1s/step - loss: 0.1540 - accuracy: 0.9435\n",
      "Epoch 19/20\n",
      "40/40 [==============================] - 43s 1s/step - loss: 0.1456 - accuracy: 0.9463\n",
      "Epoch 20/20\n",
      "40/40 [==============================] - 43s 1s/step - loss: 0.1407 - accuracy: 0.9493\n",
      "20/20 [==============================] - 8s 371ms/step\n",
      "40/40 [==============================] - 13s 336ms/step\n",
      "[CV 3/3] END batch_size=1000, epochs=20;, score=(train=0.961, test=0.909) total time=14.4min\n",
      "Epoch 1/20\n",
      "60/60 [==============================] - 64s 1s/step - loss: 0.7653 - accuracy: 0.7239\n",
      "Epoch 2/20\n",
      "60/60 [==============================] - 63s 1s/step - loss: 0.4471 - accuracy: 0.8404\n",
      "Epoch 3/20\n",
      "60/60 [==============================] - 65s 1s/step - loss: 0.3724 - accuracy: 0.8647\n",
      "Epoch 4/20\n",
      "60/60 [==============================] - 63s 1s/step - loss: 0.3331 - accuracy: 0.8798\n",
      "Epoch 5/20\n",
      "60/60 [==============================] - 63s 1s/step - loss: 0.3022 - accuracy: 0.8911\n",
      "Epoch 6/20\n",
      "60/60 [==============================] - 63s 1s/step - loss: 0.2821 - accuracy: 0.8976\n",
      "Epoch 7/20\n",
      "60/60 [==============================] - 62s 1s/step - loss: 0.2675 - accuracy: 0.9041\n",
      "Epoch 8/20\n",
      "60/60 [==============================] - 57s 946ms/step - loss: 0.2497 - accuracy: 0.9084\n",
      "Epoch 9/20\n",
      "60/60 [==============================] - 62s 1s/step - loss: 0.2327 - accuracy: 0.9156\n",
      "Epoch 10/20\n",
      "60/60 [==============================] - 63s 1s/step - loss: 0.2218 - accuracy: 0.9180\n",
      "Epoch 11/20\n",
      "60/60 [==============================] - 63s 1s/step - loss: 0.2057 - accuracy: 0.9240\n",
      "Epoch 12/20\n",
      "60/60 [==============================] - 63s 1s/step - loss: 0.1926 - accuracy: 0.9289\n",
      "Epoch 13/20\n",
      "60/60 [==============================] - 64s 1s/step - loss: 0.1820 - accuracy: 0.9332\n",
      "Epoch 14/20\n",
      "60/60 [==============================] - 75s 1s/step - loss: 0.1710 - accuracy: 0.9372\n",
      "Epoch 15/20\n",
      "60/60 [==============================] - 79s 1s/step - loss: 0.1612 - accuracy: 0.9409\n",
      "Epoch 16/20\n",
      "60/60 [==============================] - 66s 1s/step - loss: 0.1502 - accuracy: 0.9462\n",
      "Epoch 17/20\n",
      "60/60 [==============================] - 65s 1s/step - loss: 0.1426 - accuracy: 0.9475\n",
      "Epoch 18/20\n",
      "60/60 [==============================] - 64s 1s/step - loss: 0.1330 - accuracy: 0.9513\n",
      "Epoch 19/20\n",
      "60/60 [==============================] - 63s 1s/step - loss: 0.1252 - accuracy: 0.9545\n",
      "Epoch 20/20\n",
      "60/60 [==============================] - 57s 952ms/step - loss: 0.1161 - accuracy: 0.9582\n"
     ]
    }
   ],
   "source": [
    "# define the grid search parameters\n",
    "batch_size = [1000] #10, 100, 200, 300, 400, 500,\n",
    "epochs = [5,10, 20]\n",
    "param_grid = dict(batch_size=batch_size, epochs=epochs) #\n",
    "grid = GridSearchCV(estimator=model,\n",
    "                    param_grid=param_grid,\n",
    "                    #n_jobs=-1,\n",
    "                    verbose=3,\n",
    "                    return_train_score=True,\n",
    "                    cv=3)\n",
    "grid_result = grid.fit(X_train, Y_train)"
   ]
  },
  {
   "cell_type": "code",
   "execution_count": 12,
   "id": "collect-fisher",
   "metadata": {
    "ExecuteTime": {
     "end_time": "2023-02-26T14:54:30.747928Z",
     "start_time": "2023-02-26T14:54:30.725987Z"
    }
   },
   "outputs": [
    {
     "name": "stdout",
     "output_type": "stream",
     "text": [
      "Best: 0.910383 using {'batch_size': 1000, 'epochs': 20}\n",
      "0.877117 (0.000878) with: {'batch_size': 1000, 'epochs': 5}\n",
      "0.895650 (0.004227) with: {'batch_size': 1000, 'epochs': 10}\n",
      "0.910383 (0.001051) with: {'batch_size': 1000, 'epochs': 20}\n"
     ]
    }
   ],
   "source": [
    "# summarize results\n",
    "print(\"Best: %f using %s\" % (grid_result.best_score_, grid_result.best_params_))\n",
    "means = grid_result.cv_results_['mean_test_score']\n",
    "stds = grid_result.cv_results_['std_test_score']\n",
    "params = grid_result.cv_results_['params']\n",
    "for mean, stdev, param in zip(means, stds, params):\n",
    "    print(\"%f (%f) with: %r\" % (mean, stdev, param))"
   ]
  },
  {
   "cell_type": "code",
   "execution_count": 14,
   "id": "variable-harrison",
   "metadata": {
    "ExecuteTime": {
     "end_time": "2023-02-26T14:59:27.062928Z",
     "start_time": "2023-02-26T14:59:27.051958Z"
    }
   },
   "outputs": [],
   "source": [
    "def create_model():\n",
    "    model  = tf.keras.models.Sequential([\n",
    "        tf.keras.layers.Conv2D(32, kernel_size=(5,5), input_shape=(28,28,1)),\n",
    "        tf.keras.layers.MaxPool2D(),\n",
    "        tf.keras.layers.Conv2D(64, kernel_size=(5,5)),\n",
    "        tf.keras.layers.MaxPool2D(),\n",
    "        tf.keras.layers.Conv2D(128, kernel_size=(5,5)),\n",
    "        tf.keras.layers.MaxPool2D(),\n",
    "        tf.keras.layers.Flatten(),\n",
    "        tf.keras.layers.Dense(1024, activation = \"relu\"),\n",
    "        tf.keras.layers.Dropout(0.2),\n",
    "        tf.keras.layers.Dense(K, activation = tf.nn.softmax)\n",
    "    ])\n",
    "\n",
    "    model.compile(\n",
    "        optimizer=\"adam\",\n",
    "        loss=\"categorical_crossentropy\",\n",
    "        metrics  = ['accuracy']\n",
    "    )\n",
    "    return model"
   ]
  },
  {
   "cell_type": "code",
   "execution_count": 15,
   "id": "desirable-local",
   "metadata": {
    "ExecuteTime": {
     "end_time": "2023-02-26T15:59:36.798582Z",
     "start_time": "2023-02-26T14:59:41.744925Z"
    }
   },
   "outputs": [
    {
     "name": "stdout",
     "output_type": "stream",
     "text": [
      "Fitting 3 folds for each of 1 candidates, totalling 3 fits\n",
      "Epoch 1/20\n",
      "40/40 [==============================] - 39s 958ms/step - loss: 0.8762 - accuracy: 0.6897\n",
      "Epoch 2/20\n",
      "40/40 [==============================] - 41s 1s/step - loss: 0.5121 - accuracy: 0.8153\n",
      "Epoch 3/20\n",
      "40/40 [==============================] - 41s 1s/step - loss: 0.4187 - accuracy: 0.8521\n",
      "Epoch 4/20\n",
      "40/40 [==============================] - 47s 1s/step - loss: 0.3774 - accuracy: 0.8636\n",
      "Epoch 5/20\n",
      "40/40 [==============================] - 42s 1s/step - loss: 0.3411 - accuracy: 0.8774\n",
      "Epoch 6/20\n",
      "40/40 [==============================] - 41s 1s/step - loss: 0.3123 - accuracy: 0.8867\n",
      "Epoch 7/20\n",
      "40/40 [==============================] - 37s 934ms/step - loss: 0.2963 - accuracy: 0.8923\n",
      "Epoch 8/20\n",
      "40/40 [==============================] - 42s 1s/step - loss: 0.2731 - accuracy: 0.9021\n",
      "Epoch 9/20\n",
      "40/40 [==============================] - 38s 958ms/step - loss: 0.2627 - accuracy: 0.9043\n",
      "Epoch 10/20\n",
      "40/40 [==============================] - 40s 1s/step - loss: 0.2446 - accuracy: 0.9122\n",
      "Epoch 11/20\n",
      "40/40 [==============================] - 42s 1s/step - loss: 0.2335 - accuracy: 0.9153\n",
      "Epoch 12/20\n",
      "40/40 [==============================] - 38s 959ms/step - loss: 0.2234 - accuracy: 0.9188\n",
      "Epoch 13/20\n",
      "40/40 [==============================] - 38s 945ms/step - loss: 0.2094 - accuracy: 0.9241\n",
      "Epoch 14/20\n",
      "40/40 [==============================] - 41s 1s/step - loss: 0.1951 - accuracy: 0.9299\n",
      "Epoch 15/20\n",
      "40/40 [==============================] - 44s 1s/step - loss: 0.1830 - accuracy: 0.9341\n",
      "Epoch 16/20\n",
      "40/40 [==============================] - 40s 991ms/step - loss: 0.1792 - accuracy: 0.9349\n",
      "Epoch 17/20\n",
      "40/40 [==============================] - 37s 919ms/step - loss: 0.1636 - accuracy: 0.9405\n",
      "Epoch 18/20\n",
      "40/40 [==============================] - 38s 953ms/step - loss: 0.1515 - accuracy: 0.9459\n",
      "Epoch 19/20\n",
      "40/40 [==============================] - 38s 948ms/step - loss: 0.1452 - accuracy: 0.9481\n",
      "Epoch 20/20\n",
      "40/40 [==============================] - 36s 908ms/step - loss: 0.1388 - accuracy: 0.9498\n",
      "20/20 [==============================] - 6s 292ms/step\n",
      "40/40 [==============================] - 12s 295ms/step\n",
      "[CV 1/3] END batch_size=1000, epochs=20;, score=(train=0.964, test=0.908) total time=13.4min\n",
      "Epoch 1/20\n",
      "40/40 [==============================] - 36s 900ms/step - loss: 0.8565 - accuracy: 0.6940\n",
      "Epoch 2/20\n",
      "40/40 [==============================] - 36s 898ms/step - loss: 0.5010 - accuracy: 0.8173\n",
      "Epoch 3/20\n",
      "40/40 [==============================] - 36s 903ms/step - loss: 0.4145 - accuracy: 0.8518\n",
      "Epoch 4/20\n",
      "40/40 [==============================] - 38s 941ms/step - loss: 0.3651 - accuracy: 0.8692\n",
      "Epoch 5/20\n",
      "40/40 [==============================] - 45s 1s/step - loss: 0.3378 - accuracy: 0.8779\n",
      "Epoch 6/20\n",
      "40/40 [==============================] - 41s 1s/step - loss: 0.3093 - accuracy: 0.8876\n",
      "Epoch 7/20\n",
      "40/40 [==============================] - 45s 1s/step - loss: 0.2925 - accuracy: 0.8935\n",
      "Epoch 8/20\n",
      "40/40 [==============================] - 43s 1s/step - loss: 0.2696 - accuracy: 0.9027\n",
      "Epoch 9/20\n",
      "40/40 [==============================] - 40s 1s/step - loss: 0.2616 - accuracy: 0.9046\n",
      "Epoch 10/20\n",
      "40/40 [==============================] - 41s 1s/step - loss: 0.2427 - accuracy: 0.9123\n",
      "Epoch 11/20\n",
      "40/40 [==============================] - 40s 1s/step - loss: 0.2277 - accuracy: 0.9174\n",
      "Epoch 12/20\n",
      "40/40 [==============================] - 43s 1s/step - loss: 0.2126 - accuracy: 0.9233\n",
      "Epoch 13/20\n",
      "40/40 [==============================] - 39s 966ms/step - loss: 0.2014 - accuracy: 0.9265\n",
      "Epoch 14/20\n",
      "40/40 [==============================] - 36s 905ms/step - loss: 0.1910 - accuracy: 0.9298\n",
      "Epoch 15/20\n",
      "40/40 [==============================] - 39s 983ms/step - loss: 0.1809 - accuracy: 0.9336\n",
      "Epoch 16/20\n",
      "40/40 [==============================] - 39s 976ms/step - loss: 0.1708 - accuracy: 0.9384\n",
      "Epoch 17/20\n",
      "40/40 [==============================] - 39s 970ms/step - loss: 0.1592 - accuracy: 0.9430\n",
      "Epoch 18/20\n",
      "40/40 [==============================] - 38s 962ms/step - loss: 0.1505 - accuracy: 0.9450\n",
      "Epoch 19/20\n",
      "40/40 [==============================] - 38s 960ms/step - loss: 0.1398 - accuracy: 0.9488\n",
      "Epoch 20/20\n",
      "40/40 [==============================] - 38s 959ms/step - loss: 0.1346 - accuracy: 0.9506\n",
      "20/20 [==============================] - 6s 317ms/step\n",
      "40/40 [==============================] - 13s 315ms/step\n",
      "[CV 2/3] END batch_size=1000, epochs=20;, score=(train=0.962, test=0.912) total time=13.3min\n",
      "Epoch 1/20\n",
      "40/40 [==============================] - 40s 980ms/step - loss: 0.9032 - accuracy: 0.6790\n",
      "Epoch 2/20\n",
      "40/40 [==============================] - 39s 963ms/step - loss: 0.5270 - accuracy: 0.8079\n",
      "Epoch 3/20\n",
      "40/40 [==============================] - 38s 961ms/step - loss: 0.4372 - accuracy: 0.8432\n",
      "Epoch 4/20\n",
      "40/40 [==============================] - 38s 961ms/step - loss: 0.3894 - accuracy: 0.8609\n",
      "Epoch 5/20\n",
      "40/40 [==============================] - 39s 981ms/step - loss: 0.3492 - accuracy: 0.8747\n",
      "Epoch 6/20\n",
      "40/40 [==============================] - 40s 992ms/step - loss: 0.3263 - accuracy: 0.8812\n",
      "Epoch 7/20\n",
      "40/40 [==============================] - 39s 984ms/step - loss: 0.3024 - accuracy: 0.8905\n",
      "Epoch 8/20\n",
      "40/40 [==============================] - 40s 992ms/step - loss: 0.2879 - accuracy: 0.8947\n",
      "Epoch 9/20\n",
      "40/40 [==============================] - 39s 979ms/step - loss: 0.2702 - accuracy: 0.9029\n",
      "Epoch 10/20\n",
      "40/40 [==============================] - 39s 973ms/step - loss: 0.2555 - accuracy: 0.9074\n",
      "Epoch 11/20\n",
      "40/40 [==============================] - 39s 980ms/step - loss: 0.2466 - accuracy: 0.9094\n",
      "Epoch 12/20\n",
      "40/40 [==============================] - 39s 969ms/step - loss: 0.2306 - accuracy: 0.9166\n",
      "Epoch 13/20\n",
      "40/40 [==============================] - 39s 965ms/step - loss: 0.2197 - accuracy: 0.9201\n",
      "Epoch 14/20\n",
      "40/40 [==============================] - 38s 962ms/step - loss: 0.2115 - accuracy: 0.9225\n",
      "Epoch 15/20\n",
      "40/40 [==============================] - 42s 1s/step - loss: 0.2004 - accuracy: 0.9282\n",
      "Epoch 16/20\n",
      "40/40 [==============================] - 39s 972ms/step - loss: 0.1943 - accuracy: 0.9293\n",
      "Epoch 17/20\n",
      "40/40 [==============================] - 39s 966ms/step - loss: 0.1780 - accuracy: 0.9353\n",
      "Epoch 18/20\n",
      "40/40 [==============================] - 39s 983ms/step - loss: 0.1688 - accuracy: 0.9377\n",
      "Epoch 19/20\n",
      "40/40 [==============================] - 39s 967ms/step - loss: 0.1581 - accuracy: 0.9422\n",
      "Epoch 20/20\n",
      "40/40 [==============================] - 38s 958ms/step - loss: 0.1517 - accuracy: 0.9439\n",
      "20/20 [==============================] - 6s 319ms/step\n",
      "40/40 [==============================] - 13s 320ms/step\n",
      "[CV 3/3] END batch_size=1000, epochs=20;, score=(train=0.956, test=0.908) total time=13.2min\n",
      "Epoch 1/20\n",
      "60/60 [==============================] - 59s 967ms/step - loss: 0.7804 - accuracy: 0.7230\n",
      "Epoch 2/20\n",
      "60/60 [==============================] - 59s 983ms/step - loss: 0.4530 - accuracy: 0.8364\n",
      "Epoch 3/20\n",
      "60/60 [==============================] - 59s 987ms/step - loss: 0.3763 - accuracy: 0.8654\n",
      "Epoch 4/20\n",
      "60/60 [==============================] - 58s 963ms/step - loss: 0.3283 - accuracy: 0.8813\n",
      "Epoch 5/20\n",
      "60/60 [==============================] - 58s 964ms/step - loss: 0.3002 - accuracy: 0.8918\n",
      "Epoch 6/20\n",
      "60/60 [==============================] - 59s 976ms/step - loss: 0.2795 - accuracy: 0.8991\n",
      "Epoch 7/20\n",
      "60/60 [==============================] - 58s 966ms/step - loss: 0.2598 - accuracy: 0.9049\n",
      "Epoch 8/20\n",
      "60/60 [==============================] - 59s 976ms/step - loss: 0.2448 - accuracy: 0.9101\n",
      "Epoch 9/20\n",
      "60/60 [==============================] - 58s 962ms/step - loss: 0.2298 - accuracy: 0.9167\n",
      "Epoch 10/20\n",
      "60/60 [==============================] - 58s 964ms/step - loss: 0.2164 - accuracy: 0.9196\n",
      "Epoch 11/20\n",
      "60/60 [==============================] - 58s 963ms/step - loss: 0.2036 - accuracy: 0.9254\n",
      "Epoch 12/20\n",
      "60/60 [==============================] - 59s 981ms/step - loss: 0.1904 - accuracy: 0.9301\n",
      "Epoch 13/20\n",
      "60/60 [==============================] - 58s 967ms/step - loss: 0.1798 - accuracy: 0.9348\n",
      "Epoch 14/20\n",
      "60/60 [==============================] - 58s 972ms/step - loss: 0.1710 - accuracy: 0.9380\n",
      "Epoch 15/20\n",
      "60/60 [==============================] - 58s 960ms/step - loss: 0.1626 - accuracy: 0.9399\n",
      "Epoch 16/20\n",
      "60/60 [==============================] - 58s 959ms/step - loss: 0.1527 - accuracy: 0.9439\n",
      "Epoch 17/20\n",
      "60/60 [==============================] - 57s 957ms/step - loss: 0.1445 - accuracy: 0.9474\n",
      "Epoch 18/20\n",
      "60/60 [==============================] - 58s 959ms/step - loss: 0.1358 - accuracy: 0.9497\n",
      "Epoch 19/20\n",
      "60/60 [==============================] - 58s 958ms/step - loss: 0.1260 - accuracy: 0.9549\n",
      "Epoch 20/20\n",
      "60/60 [==============================] - 57s 956ms/step - loss: 0.1173 - accuracy: 0.9574\n"
     ]
    }
   ],
   "source": [
    "# define the grid search parameters\n",
    "batch_size = [1000] #10, 100, 200, 300, 400, 500,\n",
    "epochs = [20]\n",
    "param_grid = dict(batch_size=batch_size, epochs=epochs) #\n",
    "grid = GridSearchCV(estimator=model,\n",
    "                    param_grid=param_grid,\n",
    "                    #n_jobs=-1,\n",
    "                    verbose=3,\n",
    "                    return_train_score=True,\n",
    "                    cv=3)\n",
    "grid_result = grid.fit(X_train, Y_train)"
   ]
  },
  {
   "cell_type": "code",
   "execution_count": 16,
   "id": "coordinated-appendix",
   "metadata": {
    "ExecuteTime": {
     "end_time": "2023-02-26T16:01:54.425596Z",
     "start_time": "2023-02-26T16:01:54.399640Z"
    }
   },
   "outputs": [
    {
     "name": "stdout",
     "output_type": "stream",
     "text": [
      "Best: 0.909517 using {'batch_size': 1000, 'epochs': 20}\n",
      "0.909517 (0.001862) with: {'batch_size': 1000, 'epochs': 20}\n"
     ]
    }
   ],
   "source": [
    "# summarize results\n",
    "print(\"Best: %f using %s\" % (grid_result.best_score_, grid_result.best_params_))\n",
    "means = grid_result.cv_results_['mean_test_score']\n",
    "stds = grid_result.cv_results_['std_test_score']\n",
    "params = grid_result.cv_results_['params']\n",
    "for mean, stdev, param in zip(means, stds, params):\n",
    "    print(\"%f (%f) with: %r\" % (mean, stdev, param))"
   ]
  },
  {
   "cell_type": "code",
   "execution_count": null,
   "id": "brief-documentation",
   "metadata": {},
   "outputs": [],
   "source": []
  },
  {
   "cell_type": "code",
   "execution_count": null,
   "id": "baking-democracy",
   "metadata": {},
   "outputs": [],
   "source": []
  },
  {
   "cell_type": "code",
   "execution_count": null,
   "id": "eligible-electric",
   "metadata": {},
   "outputs": [],
   "source": []
  },
  {
   "cell_type": "code",
   "execution_count": null,
   "id": "liked-copying",
   "metadata": {},
   "outputs": [],
   "source": []
  },
  {
   "cell_type": "code",
   "execution_count": null,
   "id": "embedded-short",
   "metadata": {},
   "outputs": [],
   "source": []
  }
 ],
 "metadata": {
  "kernelspec": {
   "display_name": "Python 3 (ipykernel)",
   "language": "python",
   "name": "python3"
  },
  "language_info": {
   "codemirror_mode": {
    "name": "ipython",
    "version": 3
   },
   "file_extension": ".py",
   "mimetype": "text/x-python",
   "name": "python",
   "nbconvert_exporter": "python",
   "pygments_lexer": "ipython3",
   "version": "3.8.11"
  }
 },
 "nbformat": 4,
 "nbformat_minor": 5
}
